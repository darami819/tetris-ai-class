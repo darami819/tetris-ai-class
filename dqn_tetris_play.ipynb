{
 "cells": [
  {
   "cell_type": "code",
   "execution_count": null,
   "id": "4e89614b",
   "metadata": {
    "vscode": {
     "languageId": "plaintext"
    }
   },
   "outputs": [],
   "source": [
    "# Cell 1: import\n",
    "from tetris_utils import TetrisEnv, preprocess_state\n",
    "import torch\n",
    "import torch.nn as nn\n",
    "import numpy as np"
   ]
  },
  {
   "cell_type": "code",
   "execution_count": null,
   "id": "ef5fea1b",
   "metadata": {
    "vscode": {
     "languageId": "plaintext"
    }
   },
   "outputs": [],
   "source": [
    "# Cell 2: 환경 초기화\n",
    "env = TetrisEnv()\n",
    "state = preprocess_state(env.reset())\n",
    "done = False\n",
    "total_score = 0"
   ]
  },
  {
   "cell_type": "code",
   "execution_count": null,
   "id": "85448428",
   "metadata": {
    "vscode": {
     "languageId": "plaintext"
    }
   },
   "outputs": [],
   "source": [
    "# Cell 3: 모델 정의 및 로딩\n",
    "class DQN(nn.Module):\n",
    "    def __init__(self, input_dim, output_dim):\n",
    "        super().__init__()\n",
    "        self.net = nn.Sequential(\n",
    "            nn.Linear(input_dim, 128), nn.ReLU(),\n",
    "            nn.Linear(128, 128), nn.ReLU(),\n",
    "            nn.Linear(128, output_dim)\n",
    "        )\n",
    "    def forward(self, x):\n",
    "        return self.net(x)\n",
    "\n",
    "model = DQN(input_dim=env.state_size, output_dim=env.action_size)\n",
    "model.load_state_dict(torch.load(\"model/dqn_tetris_model.pth\", map_location='cpu'))\n",
    "model.eval()"
   ]
  },
  {
   "cell_type": "code",
   "execution_count": null,
   "id": "cab17227",
   "metadata": {
    "vscode": {
     "languageId": "plaintext"
    }
   },
   "outputs": [],
   "source": [
    "# Cell 4: DQN으로 플레이\n",
    "while not done:\n",
    "    state_tensor = torch.FloatTensor(state).unsqueeze(0)\n",
    "    with torch.no_grad():\n",
    "        q_values = model(state_tensor)\n",
    "    action_index = torch.argmax(q_values).item()\n",
    "    action = env.get_action_from_index(action_index)\n",
    "    next_state, reward, done = env.step(action)\n",
    "    env.render()\n",
    "    state = preprocess_state(next_state)\n",
    "    total_score += reward\n",
    "\n",
    "print(f\"Total Score (DQN): {total_score}\")"
   ]
  }
 ],
 "metadata": {
  "language_info": {
   "name": "python"
  }
 },
 "nbformat": 4,
 "nbformat_minor": 5
}
