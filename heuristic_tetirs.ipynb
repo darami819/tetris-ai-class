{
 "cells": [
  {
   "cell_type": "code",
   "execution_count": null,
   "id": "c62accdf",
   "metadata": {
    "vscode": {
     "languageId": "plaintext"
    }
   },
   "outputs": [],
   "source": [
    "# Cell 1: import\n",
    "from tetris_utils import TetrisEnv\n",
    "import matplotlib.pyplot as plt"
   ]
  },
  {
   "cell_type": "code",
   "execution_count": null,
   "id": "edef7f98",
   "metadata": {
    "vscode": {
     "languageId": "plaintext"
    }
   },
   "outputs": [],
   "source": [
    "# Cell 2: 환경 초기화\n",
    "env = TetrisEnv()\n",
    "state = env.reset()\n",
    "done = False\n",
    "total_score = 0"
   ]
  },
  {
   "cell_type": "code",
   "execution_count": null,
   "id": "4c4574e5",
   "metadata": {
    "vscode": {
     "languageId": "plaintext"
    }
   },
   "outputs": [],
   "source": [
    "# Cell 3: 간단한 휴리스틱 기반 에이전트\n",
    "def heuristic_policy(env, state):\n",
    "    possible_actions = env.get_possible_actions()\n",
    "    # 예시: y좌표가 가장 낮은 (블록이 아래로 많이 내려가는) 액션 선택\n",
    "    best_action = max(possible_actions, key=lambda a: a['y'])\n",
    "    return best_action\n"
   ]
  },
  {
   "cell_type": "code",
   "execution_count": null,
   "id": "19a6401f",
   "metadata": {
    "vscode": {
     "languageId": "plaintext"
    }
   },
   "outputs": [],
   "source": [
    "# Cell 4: 게임 실행\n",
    "while not done:\n",
    "    action = heuristic_policy(env, state)\n",
    "    next_state, reward, done = env.step(action)\n",
    "    env.render()\n",
    "    state = next_state\n",
    "    total_score += reward\n",
    "\n",
    "print(f\"Total Score: {total_score}\")"
   ]
  }
 ],
 "metadata": {
  "language_info": {
   "name": "python"
  }
 },
 "nbformat": 4,
 "nbformat_minor": 5
}
